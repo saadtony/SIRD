{
 "cells": [
  {
   "cell_type": "markdown",
   "metadata": {},
   "source": [
    "# SIRD: A Pandemic Model with Social Distancing\n",
    "**Prof. Tony Saad (<a>www.tsaad.net</a>) <br/>Department of Chemical Engineering <br/>University of Utah**\n",
    "<hr/>"
   ]
  },
  {
   "cell_type": "code",
   "execution_count": 1,
   "metadata": {},
   "outputs": [
    {
     "data": {
      "application/vnd.jupyter.widget-view+json": {
       "model_id": "e16f873626124a558b318551550485fd",
       "version_major": 2,
       "version_minor": 0
      },
      "text/plain": [
       "HBox(children=(BoundedFloatText(value=0.5, description='Infection rate:', max=1.0, step=0.01), BoundedFloatTex…"
      ]
     },
     "metadata": {},
     "output_type": "display_data"
    },
    {
     "data": {
      "application/vnd.jupyter.widget-view+json": {
       "model_id": "ff01b442949341dc8e1fb5f2a611ac58",
       "version_major": 2,
       "version_minor": 0
      },
      "text/plain": [
       "HBox(children=(BoundedFloatText(value=14.0, description='Recovery (days):', max=20.0, min=1.0, step=1.0, style…"
      ]
     },
     "metadata": {},
     "output_type": "display_data"
    },
    {
     "data": {
      "application/vnd.jupyter.widget-view+json": {
       "model_id": "74baffcc6c94453c8e91e49c22d8ec87",
       "version_major": 2,
       "version_minor": 0
      },
      "text/plain": [
       "HBox(children=(BoundedFloatText(value=0.1, description='D to S ($\\\\delta_1$):', max=10.0, step=0.1, style=Desc…"
      ]
     },
     "metadata": {},
     "output_type": "display_data"
    },
    {
     "data": {
      "application/vnd.jupyter.widget-view+json": {
       "model_id": "95d29e30c874496c9a6afc3b21f141ff",
       "version_major": 2,
       "version_minor": 0
      },
      "text/plain": [
       "HBox(children=(BoundedFloatText(value=1.0, description='Min Infected (%):', max=10.0, step=0.01, style=Descrip…"
      ]
     },
     "metadata": {},
     "output_type": "display_data"
    },
    {
     "data": {
      "application/vnd.jupyter.widget-view+json": {
       "model_id": "5e0e2c0e5a0b49c680b382463a568ad8",
       "version_major": 2,
       "version_minor": 0
      },
      "text/plain": [
       "Output()"
      ]
     },
     "metadata": {},
     "output_type": "display_data"
    }
   ],
   "source": [
    "#HIDDEN\n",
    "from routines import plot_sird_model\n",
    "import ipywidgets as widgets\n",
    "from ipywidgets import interact, interact_manual\n",
    "%matplotlib inline\n",
    "%config InlineBackend.figure_formats = ['svg']\n",
    "continuousUpdate = False\n",
    "beta = widgets.BoundedFloatText(value=0.5,min=0,max=1,step=0.01,description='Infection rate:',continuous_update=continuousUpdate)\n",
    "style = {'description_width': 'initial'}\n",
    "days = widgets.BoundedFloatText(value=14,min=1,max=20,step=1, description='Recovery (days):' ,style=style,continuous_update=continuousUpdate)\n",
    "δ1 = widgets.BoundedFloatText(value=0.1,min=0,max=10.0,step=0.1,description='D to S ($\\delta_1$):',readout_format='.3f',style=style,continuous_update=continuousUpdate)\n",
    "δ2 = widgets.BoundedFloatText(value=0.5,min=0,max=10.0,step=0.1,description='S to D ($\\delta_2$):',readout_format='.3f',style=style,continuous_update=continuousUpdate)\n",
    "months = widgets.BoundedFloatText(value=12,min=1,max=60,step=1, description='Simulation (months):',style=style,continuous_update=continuousUpdate)\n",
    "vaccinateAfter = widgets.BoundedFloatText(value=10000,min=1,description='Vaccine found (months):',max=64,style=style,continuous_update=continuousUpdate)\n",
    "\n",
    "minI = widgets.BoundedFloatText(value=1.0,min=0.0,max=50.0,step=0.01,description='Min Infected (%):',readout_format='.3f',style=style,continuous_update=continuousUpdate)\n",
    "maxI = widgets.BoundedFloatText(value=10.0,min=0,max=50.0,step=0.01,description='Max Infected (%):',readout_format='.3f',style=style,continuous_update=continuousUpdate)\n",
    "\n",
    "widgets.link((maxI, 'value'), (minI, 'max'))\n",
    "def on_value_change(change):\n",
    "    minI.max = maxI.value*0.99\n",
    "maxI.observe(on_value_change, names='value')\n",
    "\n",
    "ui1 = widgets.HBox([beta,months])\n",
    "ui2 = widgets.HBox([days,vaccinateAfter])\n",
    "ui3 = widgets.HBox([δ1,δ2])\n",
    "ui4 = widgets.HBox([minI,maxI])\n",
    "\n",
    "out = widgets.interactive_output(plot_sird_model, {'infection_rate': beta, 'incubation_period': days, 'D_to_S': δ1, 'S_to_D': δ2, 'tend_months':months, 'vaccinateAfter': vaccinateAfter,'minIpercent':minI, 'maxIpercent':maxI})\n",
    "\n",
    "display(ui1,ui2,ui3,ui4, out)"
   ]
  },
  {
   "cell_type": "markdown",
   "metadata": {},
   "source": [
    "The SIRD pandemic model is a variation of the SIR model with the addition of social distancing. A compartmental diagram is shown below:\n",
    "\n",
    "<img src=\"sird-diagram.png\" alt=\"SIRD Diagram\" width=\"500\"/>\n",
    "\n",
    "The governing equations are:\n",
    "\\begin{equation}\n",
    "\\frac{\\text{d}S}{\\text{d}t} = -\\beta SI - \\delta_1 S + \\delta_2 D\n",
    "\\end{equation}\n",
    "\\begin{equation}\n",
    "\\frac{\\text{d}I}{\\text{d}t} = \\beta SI - \\gamma I\n",
    "\\end{equation}\n",
    "\\begin{equation}\n",
    "\\frac{\\text{d}R}{\\text{d}t} =\\gamma I\n",
    "\\end{equation}\n",
    "\\begin{equation}\n",
    "\\frac{\\text{d}D}{\\text{d}t} =\\delta_1 S - \\delta_2 D \n",
    "\\end{equation}\n",
    "where:\n",
    "* $\\beta$ is the average infection rate\n",
    "* $\\gamma$ is the fraction of people recovering, and is equal to $1/d$ where $d$ is the average number of days for recovery\n",
    "* $\\delta_1$ is the fraction at which people move from being socially distanced back to the general population\n",
    "* $\\delta_2$ is the average fraction at which people become socially distant\n",
    "\n",
    "The Model implemented on this page triggers social distancing when the # of infected reaches a certain percentage of the population (designated as Max Infected in the GUI) and relaxes social distancing when it reaches a minimum # of infected (designated as Min Infected in the GUI)."
   ]
  }
 ],
 "metadata": {
  "kernelspec": {
   "display_name": "Python 3",
   "language": "python",
   "name": "python3"
  },
  "language_info": {
   "codemirror_mode": {
    "name": "ipython",
    "version": 3
   },
   "file_extension": ".py",
   "mimetype": "text/x-python",
   "name": "python",
   "nbconvert_exporter": "python",
   "pygments_lexer": "ipython3",
   "version": "3.7.6"
  }
 },
 "nbformat": 4,
 "nbformat_minor": 4
}
