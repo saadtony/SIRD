{
 "cells": [
  {
   "cell_type": "markdown",
   "metadata": {},
   "source": [
    "# SIRD: A Pandemic Model with Social Distancing\n",
    "**Prof. Tony Saad (<a>www.tsaad.net</a>) <br/>Department of Chemical Engineering <br/>University of Utah**\n",
    "<hr/>"
   ]
  },
  {
   "cell_type": "code",
   "execution_count": 1,
   "metadata": {},
   "outputs": [
    {
     "data": {
      "application/vnd.jupyter.widget-view+json": {
       "model_id": "eaf7a7c6218240e98e1d535942e1fc81",
       "version_major": 2,
       "version_minor": 0
      },
      "text/plain": [
       "HBox(children=(BoundedFloatText(value=0.5, description='Infection rate:', max=1.0, step=0.01), BoundedFloatTex…"
      ]
     },
     "metadata": {},
     "output_type": "display_data"
    },
    {
     "data": {
      "application/vnd.jupyter.widget-view+json": {
       "model_id": "f71c7932f5a8463aa637681d6f571ce8",
       "version_major": 2,
       "version_minor": 0
      },
      "text/plain": [
       "HBox(children=(BoundedFloatText(value=14.0, description='Recovery (days):', max=20.0, min=1.0, step=1.0, style…"
      ]
     },
     "metadata": {},
     "output_type": "display_data"
    },
    {
     "data": {
      "application/vnd.jupyter.widget-view+json": {
       "model_id": "1544bc67b43b4d34b0b7acb26906f8be",
       "version_major": 2,
       "version_minor": 0
      },
      "text/plain": [
       "HBox(children=(BoundedFloatText(value=0.1, description='D to S ($\\\\delta_1$):', max=10.0, step=0.1, style=Desc…"
      ]
     },
     "metadata": {},
     "output_type": "display_data"
    },
    {
     "data": {
      "application/vnd.jupyter.widget-view+json": {
       "model_id": "64115f96e6254be9bb0ed1b7d239360c",
       "version_major": 2,
       "version_minor": 0
      },
      "text/plain": [
       "HBox(children=(BoundedFloatText(value=1.0, description='Min Infected (%):', disabled=True, max=10.0, step=0.01…"
      ]
     },
     "metadata": {},
     "output_type": "display_data"
    },
    {
     "data": {
      "application/vnd.jupyter.widget-view+json": {
       "model_id": "5d9b384553234285b38dceae6677625f",
       "version_major": 2,
       "version_minor": 0
      },
      "text/plain": [
       "HBox(children=(Dropdown(description='Social Distancing Model:', options=('Constant', 'Reactive'), style=Descri…"
      ]
     },
     "metadata": {},
     "output_type": "display_data"
    },
    {
     "data": {
      "application/vnd.jupyter.widget-view+json": {
       "model_id": "16d618f1a5f54c11a22216d3e5a3763f",
       "version_major": 2,
       "version_minor": 0
      },
      "text/plain": [
       "Output()"
      ]
     },
     "metadata": {},
     "output_type": "display_data"
    }
   ],
   "source": [
    "#HIDDEN\n",
    "from routines import plot_sird_model\n",
    "import ipywidgets as widgets\n",
    "from ipywidgets import interact, interact_manual\n",
    "%matplotlib inline\n",
    "%config InlineBackend.figure_formats = ['svg']\n",
    "\n",
    "continuousUpdate = False\n",
    "\n",
    "beta = widgets.BoundedFloatText(value=0.5,min=0,max=1,step=0.01,description='Infection rate:',continuous_update=continuousUpdate)\n",
    "style = {'description_width': 'initial'}\n",
    "days = widgets.BoundedFloatText(value=14,min=1,max=20,step=1, description='Recovery (days):' ,style=style,continuous_update=continuousUpdate)\n",
    "δ1 = widgets.BoundedFloatText(value=0.1,min=0,max=10.0,step=0.1,description='D to S ($\\delta_1$):',readout_format='.3f',style=style,continuous_update=continuousUpdate)\n",
    "δ2 = widgets.BoundedFloatText(value=0.15,min=0,max=10.0,step=0.1,description='S to D ($\\delta_2$):',readout_format='.3f',style=style,continuous_update=continuousUpdate)\n",
    "months = widgets.BoundedFloatText(value=12,min=1,max=60,step=1, description='Simulation (months):',style=style,continuous_update=continuousUpdate)\n",
    "vaccinateAfter = widgets.BoundedFloatText(value=8,min=1,description='Vaccine found (months):',max=64,style=style,continuous_update=continuousUpdate)\n",
    "\n",
    "minI = widgets.BoundedFloatText(value=1.0,min=0.0,max=50.0,step=0.01,description='Min Infected (%):',readout_format='.3f',style=style,continuous_update=continuousUpdate, disabled=True)\n",
    "maxI = widgets.BoundedFloatText(value=10.0,min=0,max=50.0,step=0.01,description='Max Infected (%):',readout_format='.3f',style=style,continuous_update=continuousUpdate, disabled=True)\n",
    "\n",
    "widgets.link((maxI, 'value'), (minI, 'max'))\n",
    "def on_value_change(change):\n",
    "    minI.max = maxI.value*0.99\n",
    "maxI.observe(on_value_change, names='value')\n",
    "\n",
    "distanceModel = widgets.Dropdown(options=[('Constant'), ('Reactive')],description='Social Distancing Model:',style=style)\n",
    "def show_max_min(change):\n",
    "    if distanceModel.value == 'Constant':\n",
    "        maxI.disabled=True\n",
    "        minI.disabled=True\n",
    "    else:\n",
    "        maxI.disabled=False\n",
    "        minI.disabled=False\n",
    "distanceModel.observe(show_max_min, names='value')\n",
    "\n",
    "ui1 = widgets.HBox([beta,months])\n",
    "ui2 = widgets.HBox([days,vaccinateAfter])\n",
    "ui3 = widgets.HBox([δ1,δ2])\n",
    "ui4 = widgets.HBox([minI,maxI])\n",
    "ui5 = widgets.HBox([distanceModel])\n",
    "\n",
    "out = widgets.interactive_output(plot_sird_model, {'infection_rate': beta, 'incubation_period': days, 'D_to_S': δ1, 'S_to_D': δ2, 'tend_months':months, 'vaccinateAfter': vaccinateAfter,'minIpercent':minI, 'maxIpercent':maxI,'distanceModel':distanceModel})\n",
    "\n",
    "display(ui1,ui2,ui3,ui4, ui5, out)"
   ]
  },
  {
   "cell_type": "markdown",
   "metadata": {},
   "source": [
    "The SIRD pandemic model is a variation of the SIR model with the addition of social distancing. A compartmental diagram is shown below:\n",
    "\n",
    "<img src=\"sird-diagram.png\" alt=\"SIRD Diagram\" width=\"500\"/>\n",
    "\n",
    "The governing equations are:\n",
    "\\begin{equation}\n",
    "\\frac{\\text{d}S}{\\text{d}t} = -\\beta SI - \\delta_1 S + \\delta_2 D\n",
    "\\end{equation}\n",
    "\\begin{equation}\n",
    "\\frac{\\text{d}I}{\\text{d}t} = \\beta SI - \\gamma I\n",
    "\\end{equation}\n",
    "\\begin{equation}\n",
    "\\frac{\\text{d}R}{\\text{d}t} =\\gamma I\n",
    "\\end{equation}\n",
    "\\begin{equation}\n",
    "\\frac{\\text{d}D}{\\text{d}t} =\\delta_1 S - \\delta_2 D \n",
    "\\end{equation}\n",
    "where:\n",
    "* $\\beta$ is the average infection rate\n",
    "* $\\gamma$ is the fraction of people recovering, and is equal to $1/d$ where $d$ is the average number of days for recovery\n",
    "* $\\delta_1$ is the fraction at which people move from being socially distanced back to the general population\n",
    "* $\\delta_2$ is the average fraction at which people become socially distant\n",
    "\n",
    "The Model implemented on this page triggers social distancing when the # of infected reaches a certain percentage of the population (designated as Max Infected in the GUI) and relaxes social distancing when it reaches a minimum # of infected (designated as Min Infected in the GUI)."
   ]
  }
 ],
 "metadata": {
  "kernelspec": {
   "display_name": "Python 3",
   "language": "python",
   "name": "python3"
  },
  "language_info": {
   "codemirror_mode": {
    "name": "ipython",
    "version": 3
   },
   "file_extension": ".py",
   "mimetype": "text/x-python",
   "name": "python",
   "nbconvert_exporter": "python",
   "pygments_lexer": "ipython3",
   "version": "3.7.6"
  }
 },
 "nbformat": 4,
 "nbformat_minor": 4
}
